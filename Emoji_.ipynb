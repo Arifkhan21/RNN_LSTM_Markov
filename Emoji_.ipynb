{
 "cells": [
  {
   "cell_type": "code",
   "execution_count": 2,
   "metadata": {},
   "outputs": [
    {
     "name": "stderr",
     "output_type": "stream",
     "text": [
      "Using TensorFlow backend.\n"
     ]
    }
   ],
   "source": [
    "import numpy as np\n",
    "import matplotlib.pyplot as plt\n",
    "import pandas as pd\n",
    "import emoji\n",
    "\n",
    "from keras.models import Sequential\n",
    "from keras.layers import Dense, SimpleRNN, LSTM , Dropout ,Flatten, Input, Activation\n",
    "from keras.utils import np_utils\n"
   ]
  },
  {
   "cell_type": "code",
   "execution_count": 20,
   "metadata": {},
   "outputs": [
    {
     "data": {
      "text/html": [
       "<div>\n",
       "<style scoped>\n",
       "    .dataframe tbody tr th:only-of-type {\n",
       "        vertical-align: middle;\n",
       "    }\n",
       "\n",
       "    .dataframe tbody tr th {\n",
       "        vertical-align: top;\n",
       "    }\n",
       "\n",
       "    .dataframe thead th {\n",
       "        text-align: right;\n",
       "    }\n",
       "</style>\n",
       "<table border=\"1\" class=\"dataframe\">\n",
       "  <thead>\n",
       "    <tr style=\"text-align: right;\">\n",
       "      <th></th>\n",
       "      <th>0</th>\n",
       "      <th>1</th>\n",
       "      <th>2</th>\n",
       "      <th>3</th>\n",
       "    </tr>\n",
       "  </thead>\n",
       "  <tbody>\n",
       "    <tr>\n",
       "      <th>0</th>\n",
       "      <td>never talk to me again</td>\n",
       "      <td>3</td>\n",
       "      <td>NaN</td>\n",
       "      <td>NaN</td>\n",
       "    </tr>\n",
       "    <tr>\n",
       "      <th>1</th>\n",
       "      <td>I am proud of your achievements</td>\n",
       "      <td>2</td>\n",
       "      <td>NaN</td>\n",
       "      <td>NaN</td>\n",
       "    </tr>\n",
       "    <tr>\n",
       "      <th>2</th>\n",
       "      <td>It is the worst day in my life</td>\n",
       "      <td>3</td>\n",
       "      <td>NaN</td>\n",
       "      <td>NaN</td>\n",
       "    </tr>\n",
       "    <tr>\n",
       "      <th>3</th>\n",
       "      <td>Miss you so much</td>\n",
       "      <td>0</td>\n",
       "      <td>NaN</td>\n",
       "      <td>[0]</td>\n",
       "    </tr>\n",
       "    <tr>\n",
       "      <th>4</th>\n",
       "      <td>food is life</td>\n",
       "      <td>4</td>\n",
       "      <td>NaN</td>\n",
       "      <td>NaN</td>\n",
       "    </tr>\n",
       "  </tbody>\n",
       "</table>\n",
       "</div>"
      ],
      "text/plain": [
       "                                 0  1   2     3\n",
       "0           never talk to me again  3 NaN   NaN\n",
       "1  I am proud of your achievements  2 NaN   NaN\n",
       "2   It is the worst day in my life  3 NaN   NaN\n",
       "3                 Miss you so much  0 NaN   [0]\n",
       "4                     food is life  4 NaN   NaN"
      ]
     },
     "execution_count": 20,
     "metadata": {},
     "output_type": "execute_result"
    }
   ],
   "source": [
    "train = pd.read_csv('train_emoji.csv',header=None)\n",
    "test = pd.read_csv('test_emoji.csv',header=None)\n",
    "train.head()"
   ]
  },
  {
   "cell_type": "code",
   "execution_count": 21,
   "metadata": {},
   "outputs": [
    {
     "name": "stdout",
     "output_type": "stream",
     "text": [
      "0 ❤\n",
      "1 ⚾\n",
      "2 😄\n",
      "3 😞\n",
      "4 🍴\n"
     ]
    }
   ],
   "source": [
    "emo_dict = { 0 : \":heart:\", 1 : \":baseball:\", 2 : \":smile:\", 3 : \":disappointed:\", 4 : \":fork_and_knife:\"}\n",
    "\n",
    "for ix in emo_dict.keys():\n",
    "    print(ix),\n",
    "    print(emoji.emojize(emo_dict[ix], use_aliases=True))\n"
   ]
  },
  {
   "cell_type": "code",
   "execution_count": 22,
   "metadata": {},
   "outputs": [
    {
     "name": "stdout",
     "output_type": "stream",
     "text": [
      "(132,) (132,) (56,) (56,)\n",
      "-------------------------\n",
      "never talk to me again 3\n"
     ]
    }
   ],
   "source": [
    "x_train = train[0]\n",
    "y_train= train[1]\n",
    "\n",
    "x_test = test[0]\n",
    "y_test = test[1]\n",
    "\n",
    "print x_train.shape, y_train.shape,x_test.shape, y_test.shape\n",
    "print (\"-------------------------\")\n",
    "print x_train[0],y_train[0]"
   ]
  },
  {
   "cell_type": "code",
   "execution_count": 23,
   "metadata": {},
   "outputs": [
    {
     "name": "stderr",
     "output_type": "stream",
     "text": [
      "/home/arif/.local/lib/python2.7/site-packages/ipykernel_launcher.py:2: SettingWithCopyWarning: \n",
      "A value is trying to be set on a copy of a slice from a DataFrame\n",
      "\n",
      "See the caveats in the documentation: http://pandas.pydata.org/pandas-docs/stable/indexing.html#indexing-view-versus-copy\n",
      "  \n",
      "/home/arif/.local/lib/python2.7/site-packages/ipykernel_launcher.py:5: SettingWithCopyWarning: \n",
      "A value is trying to be set on a copy of a slice from a DataFrame\n",
      "\n",
      "See the caveats in the documentation: http://pandas.pydata.org/pandas-docs/stable/indexing.html#indexing-view-versus-copy\n",
      "  \"\"\"\n"
     ]
    }
   ],
   "source": [
    "for ix in range(x_train.shape[0]):\n",
    "    x_train[ix] = x_train[ix].split()\n",
    "    \n",
    "for ix in range(x_test.shape[0]):\n",
    "    x_test[ix] = x_test[ix].split()"
   ]
  },
  {
   "cell_type": "code",
   "execution_count": 24,
   "metadata": {},
   "outputs": [],
   "source": [
    "y_train=np_utils.to_categorical(y_train)\n"
   ]
  },
  {
   "cell_type": "code",
   "execution_count": 25,
   "metadata": {},
   "outputs": [],
   "source": [
    "## Finding max length pf sentence array"
   ]
  },
  {
   "cell_type": "code",
   "execution_count": 28,
   "metadata": {},
   "outputs": [
    {
     "data": {
      "text/plain": [
       "(array([ 1,  2,  3,  4,  5,  6,  7,  8,  9, 10]),\n",
       " array([ 4,  5, 26, 35, 20, 21, 11,  5,  1,  4]))"
      ]
     },
     "execution_count": 28,
     "metadata": {},
     "output_type": "execute_result"
    }
   ],
   "source": [
    "np.unique([len(ix) for ix in x_train],return_counts=True)"
   ]
  },
  {
   "cell_type": "code",
   "execution_count": 29,
   "metadata": {},
   "outputs": [
    {
     "data": {
      "text/plain": [
       "(array([2, 3, 4, 5, 6, 7, 8]), array([ 3, 12, 16, 17,  3,  4,  1]))"
      ]
     },
     "execution_count": 29,
     "metadata": {},
     "output_type": "execute_result"
    }
   ],
   "source": [
    "np.unique([len(ix) for ix in x_test],return_counts=True)"
   ]
  },
  {
   "cell_type": "code",
   "execution_count": 31,
   "metadata": {},
   "outputs": [],
   "source": [
    "embeddings_ind = {}\n",
    "\n",
    "f = open('glove.6B.50d.txt')\n",
    "for line in f:\n",
    "    values = line.split()\n",
    "    word = values[0]\n",
    "    coeff = values[1:]\n",
    "    embeddings_ind[word] = coeff\n",
    "f.close()"
   ]
  },
  {
   "cell_type": "code",
   "execution_count": 33,
   "metadata": {},
   "outputs": [],
   "source": [
    "embeddings_mat_train = np.zeros((x_train.shape[0],10,50))\n",
    "embeddings_mat_test= np.zeros((x_test.shape[0],10,50))"
   ]
  },
  {
   "cell_type": "code",
   "execution_count": 45,
   "metadata": {},
   "outputs": [],
   "source": [
    "for ix in range(x_train.shape[0]):\n",
    "    for iy in range(len(x_train[ix])):\n",
    "        embeddings_mat_train[ix][iy] = embeddings_ind[x_train[ix][iy].lower()]"
   ]
  },
  {
   "cell_type": "code",
   "execution_count": 46,
   "metadata": {},
   "outputs": [],
   "source": [
    "for ix in range(x_test.shape[0]):\n",
    "    for iy in range(len(x_test[ix])):\n",
    "        embeddings_mat_test[ix][iy] = embeddings_ind[x_test[ix][iy].lower()]"
   ]
  },
  {
   "cell_type": "code",
   "execution_count": 61,
   "metadata": {},
   "outputs": [
    {
     "name": "stdout",
     "output_type": "stream",
     "text": [
      "_________________________________________________________________\n",
      "Layer (type)                 Output Shape              Param #   \n",
      "=================================================================\n",
      "simple_rnn_8 (SimpleRNN)     (None, 10, 64)            7360      \n",
      "_________________________________________________________________\n",
      "dropout_7 (Dropout)          (None, 10, 64)            0         \n",
      "_________________________________________________________________\n",
      "simple_rnn_9 (SimpleRNN)     (None, 64)                8256      \n",
      "_________________________________________________________________\n",
      "dropout_8 (Dropout)          (None, 64)                0         \n",
      "_________________________________________________________________\n",
      "dense_4 (Dense)              (None, 5)                 325       \n",
      "_________________________________________________________________\n",
      "activation_4 (Activation)    (None, 5)                 0         \n",
      "=================================================================\n",
      "Total params: 15,941\n",
      "Trainable params: 15,941\n",
      "Non-trainable params: 0\n",
      "_________________________________________________________________\n"
     ]
    }
   ],
   "source": [
    "model= Sequential()\n",
    "model.add(SimpleRNN(64,input_shape=(10,50),return_sequences=True))\n",
    "model.add(Dropout(0.25))\n",
    "model.add(SimpleRNN(64,return_sequences=False))\n",
    "model.add(Dropout(0.5))\n",
    "model.add(Dense(5))\n",
    "model.add(Activation('softmax'))\n",
    "model.summary()"
   ]
  },
  {
   "cell_type": "code",
   "execution_count": 62,
   "metadata": {},
   "outputs": [],
   "source": [
    "model.compile(loss='categorical_crossentropy',metrics=['accuracy'],optimizer='adam')"
   ]
  },
  {
   "cell_type": "code",
   "execution_count": 63,
   "metadata": {},
   "outputs": [
    {
     "name": "stdout",
     "output_type": "stream",
     "text": [
      "Epoch 1/50\n",
      "132/132 [==============================] - 1s 5ms/step - loss: 1.7955 - acc: 0.2273\n",
      "Epoch 2/50\n",
      "132/132 [==============================] - 0s 284us/step - loss: 1.6451 - acc: 0.2955\n",
      "Epoch 3/50\n",
      "132/132 [==============================] - 0s 351us/step - loss: 1.5907 - acc: 0.3788\n",
      "Epoch 4/50\n",
      "132/132 [==============================] - 0s 314us/step - loss: 1.4598 - acc: 0.3712\n",
      "Epoch 5/50\n",
      "132/132 [==============================] - 0s 305us/step - loss: 1.3303 - acc: 0.4394\n",
      "Epoch 6/50\n",
      "132/132 [==============================] - 0s 327us/step - loss: 1.3667 - acc: 0.4545\n",
      "Epoch 7/50\n",
      "132/132 [==============================] - 0s 284us/step - loss: 1.1775 - acc: 0.5758\n",
      "Epoch 8/50\n",
      "132/132 [==============================] - 0s 293us/step - loss: 1.1445 - acc: 0.5530\n",
      "Epoch 9/50\n",
      "132/132 [==============================] - 0s 300us/step - loss: 1.1076 - acc: 0.5909\n",
      "Epoch 10/50\n",
      "132/132 [==============================] - 0s 283us/step - loss: 1.0614 - acc: 0.6061\n",
      "Epoch 11/50\n",
      "132/132 [==============================] - 0s 276us/step - loss: 1.0422 - acc: 0.5530\n",
      "Epoch 12/50\n",
      "132/132 [==============================] - 0s 293us/step - loss: 0.9344 - acc: 0.6364\n",
      "Epoch 13/50\n",
      "132/132 [==============================] - 0s 342us/step - loss: 0.9416 - acc: 0.6364\n",
      "Epoch 14/50\n",
      "132/132 [==============================] - 0s 300us/step - loss: 0.8482 - acc: 0.7652\n",
      "Epoch 15/50\n",
      "132/132 [==============================] - 0s 425us/step - loss: 0.7806 - acc: 0.7424\n",
      "Epoch 16/50\n",
      "132/132 [==============================] - 0s 365us/step - loss: 0.7747 - acc: 0.7045\n",
      "Epoch 17/50\n",
      "132/132 [==============================] - 0s 385us/step - loss: 0.6811 - acc: 0.7803\n",
      "Epoch 18/50\n",
      "132/132 [==============================] - 0s 357us/step - loss: 0.5868 - acc: 0.8106\n",
      "Epoch 19/50\n",
      "132/132 [==============================] - 0s 346us/step - loss: 0.5508 - acc: 0.8030\n",
      "Epoch 20/50\n",
      "132/132 [==============================] - 0s 382us/step - loss: 0.4671 - acc: 0.8864\n",
      "Epoch 21/50\n",
      "132/132 [==============================] - 0s 336us/step - loss: 0.4967 - acc: 0.8561\n",
      "Epoch 22/50\n",
      "132/132 [==============================] - 0s 368us/step - loss: 0.4719 - acc: 0.8561\n",
      "Epoch 23/50\n",
      "132/132 [==============================] - 0s 345us/step - loss: 0.4217 - acc: 0.9015\n",
      "Epoch 24/50\n",
      "132/132 [==============================] - 0s 317us/step - loss: 0.3677 - acc: 0.9242\n",
      "Epoch 25/50\n",
      "132/132 [==============================] - 0s 308us/step - loss: 0.3704 - acc: 0.9394\n",
      "Epoch 26/50\n",
      "132/132 [==============================] - 0s 321us/step - loss: 0.2708 - acc: 0.9545\n",
      "Epoch 27/50\n",
      "132/132 [==============================] - 0s 286us/step - loss: 0.3391 - acc: 0.8939\n",
      "Epoch 28/50\n",
      "132/132 [==============================] - 0s 337us/step - loss: 0.2875 - acc: 0.9394\n",
      "Epoch 29/50\n",
      "132/132 [==============================] - 0s 323us/step - loss: 0.2674 - acc: 0.9621\n",
      "Epoch 30/50\n",
      "132/132 [==============================] - 0s 289us/step - loss: 0.2914 - acc: 0.9167\n",
      "Epoch 31/50\n",
      "132/132 [==============================] - 0s 337us/step - loss: 0.2824 - acc: 0.9167\n",
      "Epoch 32/50\n",
      "132/132 [==============================] - 0s 317us/step - loss: 0.1899 - acc: 0.9697\n",
      "Epoch 33/50\n",
      "132/132 [==============================] - 0s 348us/step - loss: 0.1947 - acc: 0.9621\n",
      "Epoch 34/50\n",
      "132/132 [==============================] - 0s 342us/step - loss: 0.1580 - acc: 0.9848\n",
      "Epoch 35/50\n",
      "132/132 [==============================] - 0s 347us/step - loss: 0.1705 - acc: 0.9773\n",
      "Epoch 36/50\n",
      "132/132 [==============================] - 0s 284us/step - loss: 0.1809 - acc: 0.9621\n",
      "Epoch 37/50\n",
      "132/132 [==============================] - 0s 316us/step - loss: 0.1462 - acc: 0.9773\n",
      "Epoch 38/50\n",
      "132/132 [==============================] - 0s 360us/step - loss: 0.1489 - acc: 0.9848\n",
      "Epoch 39/50\n",
      "132/132 [==============================] - 0s 340us/step - loss: 0.1191 - acc: 0.9848\n",
      "Epoch 40/50\n",
      "132/132 [==============================] - 0s 289us/step - loss: 0.1589 - acc: 0.9773\n",
      "Epoch 41/50\n",
      "132/132 [==============================] - 0s 332us/step - loss: 0.1256 - acc: 0.9924\n",
      "Epoch 42/50\n",
      "132/132 [==============================] - 0s 317us/step - loss: 0.1159 - acc: 0.9848\n",
      "Epoch 43/50\n",
      "132/132 [==============================] - 0s 367us/step - loss: 0.1174 - acc: 0.9848\n",
      "Epoch 44/50\n",
      "132/132 [==============================] - 0s 364us/step - loss: 0.0861 - acc: 0.9848\n",
      "Epoch 45/50\n",
      "132/132 [==============================] - 0s 346us/step - loss: 0.1012 - acc: 1.0000\n",
      "Epoch 46/50\n",
      "132/132 [==============================] - 0s 433us/step - loss: 0.0917 - acc: 0.9924\n",
      "Epoch 47/50\n",
      "132/132 [==============================] - 0s 359us/step - loss: 0.1018 - acc: 0.9924\n",
      "Epoch 48/50\n",
      "132/132 [==============================] - 0s 356us/step - loss: 0.0967 - acc: 0.9848\n",
      "Epoch 49/50\n",
      "132/132 [==============================] - 0s 338us/step - loss: 0.1011 - acc: 0.9773\n",
      "Epoch 50/50\n",
      "132/132 [==============================] - 0s 381us/step - loss: 0.0790 - acc: 1.0000\n"
     ]
    },
    {
     "data": {
      "text/plain": [
       "<keras.callbacks.History at 0x7fba53e70250>"
      ]
     },
     "execution_count": 63,
     "metadata": {},
     "output_type": "execute_result"
    }
   ],
   "source": [
    "model.fit(embeddings_mat_train,y_train,epochs=50,batch_size=32,shuffle=True)"
   ]
  },
  {
   "cell_type": "code",
   "execution_count": 71,
   "metadata": {},
   "outputs": [
    {
     "name": "stdout",
     "output_type": "stream",
     "text": [
      "0.660714285714\n"
     ]
    }
   ],
   "source": [
    "pred = model.predict_classes(embeddings_mat_test)\n",
    "print(float(sum(y_test==preds))/embeddings_mat_test.shape[0])="
   ]
  },
  {
   "cell_type": "code",
   "execution_count": 65,
   "metadata": {},
   "outputs": [
    {
     "name": "stdout",
     "output_type": "stream",
     "text": [
      "2\n",
      "['he', 'got', 'a', 'raise'] 🍴 😄\n",
      "5\n",
      "['he', 'is', 'a', 'good', 'friend'] 😞 ❤\n",
      "6\n",
      "['I', 'am', 'upset'] 😞 ❤\n",
      "7\n",
      "['We', 'had', 'such', 'a', 'lovely', 'dinner', 'tonight'] 🍴 ❤\n",
      "11\n",
      "['work', 'is', 'hard'] ❤ 😞\n",
      "12\n",
      "['This', 'girl', 'is', 'messing', 'with', 'me'] 😄 😞\n",
      "13\n",
      "['are', 'you', 'serious', 'ha', 'ha'] 😞 😄\n",
      "17\n",
      "['Congratulation', 'for', 'having', 'a', 'baby'] 😞 😄\n",
      "18\n",
      "['stop', 'messing', 'around'] ❤ 😞\n",
      "21\n",
      "['you', 'brighten', 'my', 'day'] 🍴 😄\n",
      "23\n",
      "['she', 'is', 'a', 'bully'] ❤ 😞\n",
      "26\n",
      "['I', 'worked', 'during', 'my', 'birthday'] 🍴 😞\n",
      "27\n",
      "['My', 'grandmother', 'is', 'the', 'love', 'of', 'my', 'life'] 😞 ❤\n",
      "28\n",
      "['enjoy', 'your', 'break'] 🍴 😄\n",
      "29\n",
      "['valentine', 'day', 'is', 'near'] 😄 ❤\n",
      "30\n",
      "['I', 'miss', 'you', 'so', 'much'] 😞 ❤\n",
      "34\n",
      "['will', 'you', 'be', 'my', 'valentine'] 🍴 ❤\n",
      "35\n",
      "['he', 'can', 'pitch', 'really', 'well'] 😄 ⚾\n",
      "41\n",
      "['I', 'like', 'your', 'jacket'] ❤ 😄\n",
      "45\n",
      "['I', 'love', 'to', 'the', 'stars', 'and', 'back'] ⚾ ❤\n",
      "50\n",
      "['yesterday', 'we', 'lost', 'again'] 🍴 😞\n",
      "51\n",
      "['family', 'is', 'all', 'I', 'have'] 😞 ❤\n",
      "55\n",
      "['I', 'did', 'not', 'have', 'breakfast'] 🍴 😞\n"
     ]
    }
   ],
   "source": [
    "for ix in range(embeddings_mat_test.shape[0]):\n",
    "    \n",
    "    if pred[ix] != y_test[ix]:\n",
    "        print(ix)\n",
    "        print test[0][ix],\n",
    "        print emoji.emojize(emo_dict[pred[ix]], use_aliases=True),\n",
    "        print emoji.emojize(emo_dict[y_test[ix]], use_aliases=True)"
   ]
  },
  {
   "cell_type": "markdown",
   "metadata": {},
   "source": [
    "## Using LSTM"
   ]
  },
  {
   "cell_type": "code",
   "execution_count": 66,
   "metadata": {},
   "outputs": [
    {
     "name": "stdout",
     "output_type": "stream",
     "text": [
      "_________________________________________________________________\n",
      "Layer (type)                 Output Shape              Param #   \n",
      "=================================================================\n",
      "lstm_1 (LSTM)                (None, 10, 128)           91648     \n",
      "_________________________________________________________________\n",
      "dropout_9 (Dropout)          (None, 10, 128)           0         \n",
      "_________________________________________________________________\n",
      "lstm_2 (LSTM)                (None, 128)               131584    \n",
      "_________________________________________________________________\n",
      "dropout_10 (Dropout)         (None, 128)               0         \n",
      "_________________________________________________________________\n",
      "dense_5 (Dense)              (None, 5)                 645       \n",
      "_________________________________________________________________\n",
      "activation_5 (Activation)    (None, 5)                 0         \n",
      "=================================================================\n",
      "Total params: 223,877\n",
      "Trainable params: 223,877\n",
      "Non-trainable params: 0\n",
      "_________________________________________________________________\n"
     ]
    }
   ],
   "source": [
    "model_new=Sequential()\n",
    "model_new.add(LSTM(128,input_shape=(10,50),return_sequences=True))\n",
    "model_new.add(Dropout(0.5))\n",
    "\n",
    "model_new.add(LSTM(128,return_sequences=False))\n",
    "model_new.add(Dropout(0.5))\n",
    "model_new.add(Dense(5))\n",
    "model_new.add(Activation('softmax'))\n",
    "model_new.summary()"
   ]
  },
  {
   "cell_type": "code",
   "execution_count": 67,
   "metadata": {},
   "outputs": [],
   "source": [
    "model_new.compile(loss='categorical_crossentropy',optimizer='adam',metrics=['accuracy'])"
   ]
  },
  {
   "cell_type": "code",
   "execution_count": 68,
   "metadata": {},
   "outputs": [
    {
     "name": "stdout",
     "output_type": "stream",
     "text": [
      "Epoch 1/50\n",
      "132/132 [==============================] - 2s 13ms/step - loss: 1.5930 - acc: 0.2803\n",
      "Epoch 2/50\n",
      "132/132 [==============================] - 0s 987us/step - loss: 1.5119 - acc: 0.2879\n",
      "Epoch 3/50\n",
      "132/132 [==============================] - 0s 1ms/step - loss: 1.4765 - acc: 0.3106\n",
      "Epoch 4/50\n",
      "132/132 [==============================] - 0s 1ms/step - loss: 1.4066 - acc: 0.4470\n",
      "Epoch 5/50\n",
      "132/132 [==============================] - 0s 1ms/step - loss: 1.2945 - acc: 0.4773\n",
      "Epoch 6/50\n",
      "132/132 [==============================] - 0s 1ms/step - loss: 1.1900 - acc: 0.5833\n",
      "Epoch 7/50\n",
      "132/132 [==============================] - 0s 1ms/step - loss: 1.0440 - acc: 0.6212\n",
      "Epoch 8/50\n",
      "132/132 [==============================] - 0s 1ms/step - loss: 0.9404 - acc: 0.6212\n",
      "Epoch 9/50\n",
      "132/132 [==============================] - 0s 1ms/step - loss: 0.8041 - acc: 0.6288\n",
      "Epoch 10/50\n",
      "132/132 [==============================] - 0s 1ms/step - loss: 0.8048 - acc: 0.6970\n",
      "Epoch 11/50\n",
      "132/132 [==============================] - 0s 1ms/step - loss: 0.6923 - acc: 0.7348\n",
      "Epoch 12/50\n",
      "132/132 [==============================] - 0s 1ms/step - loss: 0.6095 - acc: 0.7727\n",
      "Epoch 13/50\n",
      "132/132 [==============================] - 0s 1ms/step - loss: 0.5788 - acc: 0.7803\n",
      "Epoch 14/50\n",
      "132/132 [==============================] - 0s 1ms/step - loss: 0.5218 - acc: 0.7879\n",
      "Epoch 15/50\n",
      "132/132 [==============================] - 0s 1ms/step - loss: 0.4501 - acc: 0.8409\n",
      "Epoch 16/50\n",
      "132/132 [==============================] - 0s 1ms/step - loss: 0.4827 - acc: 0.8333\n",
      "Epoch 17/50\n",
      "132/132 [==============================] - 0s 1ms/step - loss: 0.4196 - acc: 0.8409\n",
      "Epoch 18/50\n",
      "132/132 [==============================] - 0s 1ms/step - loss: 0.3383 - acc: 0.9167\n",
      "Epoch 19/50\n",
      "132/132 [==============================] - 0s 1ms/step - loss: 0.3036 - acc: 0.8864\n",
      "Epoch 20/50\n",
      "132/132 [==============================] - 0s 1ms/step - loss: 0.2849 - acc: 0.9242\n",
      "Epoch 21/50\n",
      "132/132 [==============================] - 0s 1ms/step - loss: 0.2848 - acc: 0.8939\n",
      "Epoch 22/50\n",
      "132/132 [==============================] - 0s 980us/step - loss: 0.2603 - acc: 0.8939\n",
      "Epoch 23/50\n",
      "132/132 [==============================] - 0s 1ms/step - loss: 0.2343 - acc: 0.9167\n",
      "Epoch 24/50\n",
      "132/132 [==============================] - 0s 1ms/step - loss: 0.2981 - acc: 0.8864\n",
      "Epoch 25/50\n",
      "132/132 [==============================] - 0s 1ms/step - loss: 0.2681 - acc: 0.9091\n",
      "Epoch 26/50\n",
      "132/132 [==============================] - 0s 1ms/step - loss: 0.2560 - acc: 0.9091\n",
      "Epoch 27/50\n",
      "132/132 [==============================] - 0s 1ms/step - loss: 0.2971 - acc: 0.8712\n",
      "Epoch 28/50\n",
      "132/132 [==============================] - 0s 1ms/step - loss: 0.2772 - acc: 0.8939\n",
      "Epoch 29/50\n",
      "132/132 [==============================] - 0s 1ms/step - loss: 0.3740 - acc: 0.8485\n",
      "Epoch 30/50\n",
      "132/132 [==============================] - 0s 1ms/step - loss: 0.4546 - acc: 0.8409\n",
      "Epoch 31/50\n",
      "132/132 [==============================] - 0s 1ms/step - loss: 0.3086 - acc: 0.9091\n",
      "Epoch 32/50\n",
      "132/132 [==============================] - 0s 1ms/step - loss: 0.2434 - acc: 0.9318\n",
      "Epoch 33/50\n",
      "132/132 [==============================] - 0s 1ms/step - loss: 0.1728 - acc: 0.9773\n",
      "Epoch 34/50\n",
      "132/132 [==============================] - 0s 1ms/step - loss: 0.1751 - acc: 0.9545\n",
      "Epoch 35/50\n",
      "132/132 [==============================] - 0s 1ms/step - loss: 0.1502 - acc: 0.9545\n",
      "Epoch 36/50\n",
      "132/132 [==============================] - 0s 1ms/step - loss: 0.1020 - acc: 0.9697\n",
      "Epoch 37/50\n",
      "132/132 [==============================] - 0s 1ms/step - loss: 0.1014 - acc: 0.9773\n",
      "Epoch 38/50\n",
      "132/132 [==============================] - 0s 1ms/step - loss: 0.0954 - acc: 0.9621\n",
      "Epoch 39/50\n",
      "132/132 [==============================] - 0s 1ms/step - loss: 0.0611 - acc: 0.9848\n",
      "Epoch 40/50\n",
      "132/132 [==============================] - 0s 1ms/step - loss: 0.0604 - acc: 0.9848\n",
      "Epoch 41/50\n",
      "132/132 [==============================] - 0s 1ms/step - loss: 0.0563 - acc: 0.9848\n",
      "Epoch 42/50\n",
      "132/132 [==============================] - 0s 1ms/step - loss: 0.0419 - acc: 0.9773\n",
      "Epoch 43/50\n",
      "132/132 [==============================] - 0s 1ms/step - loss: 0.0361 - acc: 0.9924\n",
      "Epoch 44/50\n",
      "132/132 [==============================] - 0s 1ms/step - loss: 0.0289 - acc: 1.0000\n",
      "Epoch 45/50\n",
      "132/132 [==============================] - 0s 1ms/step - loss: 0.0181 - acc: 1.0000\n",
      "Epoch 46/50\n",
      "132/132 [==============================] - 0s 1ms/step - loss: 0.0298 - acc: 0.9848\n",
      "Epoch 47/50\n",
      "132/132 [==============================] - 0s 1ms/step - loss: 0.0289 - acc: 0.9924\n",
      "Epoch 48/50\n",
      "132/132 [==============================] - 0s 1ms/step - loss: 0.0229 - acc: 1.0000\n",
      "Epoch 49/50\n",
      "132/132 [==============================] - 0s 1ms/step - loss: 0.0184 - acc: 1.0000\n",
      "Epoch 50/50\n",
      "132/132 [==============================] - 0s 1ms/step - loss: 0.0214 - acc: 0.9924\n"
     ]
    },
    {
     "data": {
      "text/plain": [
       "<keras.callbacks.History at 0x7fba48dff190>"
      ]
     },
     "execution_count": 68,
     "metadata": {},
     "output_type": "execute_result"
    }
   ],
   "source": [
    "model_new.fit(embeddings_mat_train,y_train,epochs=50,batch_size=32,shuffle=True)"
   ]
  },
  {
   "cell_type": "code",
   "execution_count": 69,
   "metadata": {},
   "outputs": [
    {
     "name": "stdout",
     "output_type": "stream",
     "text": [
      "0.660714285714\n"
     ]
    }
   ],
   "source": [
    "preds = model_new.predict_classes(embeddings_mat_test)\n",
    "print(float(sum(y_test==preds))/embeddings_mat_test.shape[0])"
   ]
  },
  {
   "cell_type": "code",
   "execution_count": 70,
   "metadata": {},
   "outputs": [
    {
     "name": "stdout",
     "output_type": "stream",
     "text": [
      "2\n",
      "['he', 'got', 'a', 'raise'] 😞 😄\n",
      "3\n",
      "['she', 'got', 'me', 'a', 'present'] 😞 ❤\n",
      "5\n",
      "['he', 'is', 'a', 'good', 'friend'] 😄 ❤\n",
      "6\n",
      "['I', 'am', 'upset'] 😞 ❤\n",
      "7\n",
      "['We', 'had', 'such', 'a', 'lovely', 'dinner', 'tonight'] 😄 ❤\n",
      "11\n",
      "['work', 'is', 'hard'] 😄 😞\n",
      "12\n",
      "['This', 'girl', 'is', 'messing', 'with', 'me'] ❤ 😞\n",
      "13\n",
      "['are', 'you', 'serious', 'ha', 'ha'] 😞 😄\n",
      "16\n",
      "['work', 'is', 'horrible'] 😄 😞\n",
      "19\n",
      "['any', 'suggestions', 'for', 'dinner'] 😄 🍴\n",
      "21\n",
      "['you', 'brighten', 'my', 'day'] ❤ 😄\n",
      "23\n",
      "['she', 'is', 'a', 'bully'] ❤ 😞\n",
      "26\n",
      "['I', 'worked', 'during', 'my', 'birthday'] 😄 😞\n",
      "28\n",
      "['enjoy', 'your', 'break'] 😞 😄\n",
      "29\n",
      "['valentine', 'day', 'is', 'near'] 😄 ❤\n",
      "40\n",
      "['I', 'will', 'go', 'dance'] ⚾ 😄\n",
      "41\n",
      "['I', 'like', 'your', 'jacket'] ❤ 😄\n",
      "48\n",
      "['I', 'want', 'to', 'joke'] ❤ 😄\n",
      "55\n",
      "['I', 'did', 'not', 'have', 'breakfast'] ❤ 😞\n"
     ]
    }
   ],
   "source": [
    "for ix in range(embeddings_mat_test.shape[0]):\n",
    "    \n",
    "    if preds[ix] != y_test[ix]:\n",
    "        print(ix)\n",
    "        print test[0][ix],\n",
    "        print emoji.emojize(emo_dict[preds[ix]], use_aliases=True),\n",
    "        print emoji.emojize(emo_dict[y_test[ix]], use_aliases=True)"
   ]
  },
  {
   "cell_type": "code",
   "execution_count": null,
   "metadata": {},
   "outputs": [],
   "source": []
  }
 ],
 "metadata": {
  "kernelspec": {
   "display_name": "Python 3",
   "language": "python",
   "name": "python3"
  },
  "language_info": {
   "codemirror_mode": {
    "name": "ipython",
    "version": 2
   },
   "file_extension": ".py",
   "mimetype": "text/x-python",
   "name": "python",
   "nbconvert_exporter": "python",
   "pygments_lexer": "ipython2",
   "version": "2.7.12"
  }
 },
 "nbformat": 4,
 "nbformat_minor": 2
}
